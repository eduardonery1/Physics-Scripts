{
 "cells": [
  {
   "cell_type": "code",
   "execution_count": 7,
   "metadata": {},
   "outputs": [
    {
     "name": "stdout",
     "output_type": "stream",
     "text": [
      "Raio? 100\n",
      "theta? 1\n",
      "x=  99.98476951563913  y=  1.7452406437283512\n"
     ]
    }
   ],
   "source": [
    "from math import sin, cos, pi\n",
    "\n",
    "#coordenadas polares\n",
    "r = float(input(\"Raio? \"))\n",
    "d = float(input(\"theta? \"))\n",
    "\n",
    "theta = d*pi/180\n",
    "\n",
    "x = r*cos(theta)\n",
    "y = r*sin(theta)\n",
    "\n",
    "print(\"x= \", x, \" y= \", y)"
   ]
  },
  {
   "cell_type": "code",
   "execution_count": 6,
   "metadata": {},
   "outputs": [
    {
     "name": "stdout",
     "output_type": "stream",
     "text": [
      "A quantos por cento de c está a nave? 0.99\n",
      "Distância em anos luz do planeta? 10\n",
      "Anos que a nave levaria de acordo com o observador na Terra:  10.106934611395234\n",
      "Anos que a nave levaria de acordo com o observador na nave:  71.64615986266331\n"
     ]
    }
   ],
   "source": [
    "from math import sqrt\n",
    "\n",
    "#velocidade reltivística\n",
    "c = 299792458\n",
    "v = float(input(\"A quantos por cento de c está a nave? \"))\n",
    "x = float(input(\"Distância em anos luz do planeta? \"))\n",
    "\n",
    "ly_in_m = x*9.461e15\n",
    "t_from_earth = ly_in_m/(v*c)\n",
    "t_from_spaceship = (c/sqrt((c**2)-(v*c)**2))*(t_from_earth-((v*c)/(c**2))*ly_in_m)\n",
    "\n",
    "years_e = t_from_earth/3.154e7\n",
    "years_s = t_from_spaceship/3.154e7\n",
    "\n",
    "print(\"Anos que a nave levaria de acordo com o observador na Terra: \", years_e)\n",
    "print(\"Anos que a nave levaria de acordo com o observador na nave: \", years_s)\n"
   ]
  },
  {
   "cell_type": "code",
   "execution_count": null,
   "metadata": {},
   "outputs": [],
   "source": []
  }
 ],
 "metadata": {
  "kernelspec": {
   "display_name": "Python 3",
   "language": "python",
   "name": "python3"
  },
  "language_info": {
   "codemirror_mode": {
    "name": "ipython",
    "version": 3
   },
   "file_extension": ".py",
   "mimetype": "text/x-python",
   "name": "python",
   "nbconvert_exporter": "python",
   "pygments_lexer": "ipython3",
   "version": "3.7.6"
  }
 },
 "nbformat": 4,
 "nbformat_minor": 4
}
